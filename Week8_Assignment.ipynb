{
  "cells": [
    {
      "cell_type": "markdown",
      "metadata": {
        "id": "view-in-github",
        "colab_type": "text"
      },
      "source": [
        "<a href=\"https://colab.research.google.com/github/vivekbajaj/My-First-Repo/blob/master/Week8_Assignment.ipynb\" target=\"_parent\"><img src=\"https://colab.research.google.com/assets/colab-badge.svg\" alt=\"Open In Colab\"/></a>"
      ]
    },
    {
      "cell_type": "code",
      "execution_count": 1,
      "metadata": {
        "id": "0no3HKJSLOfL"
      },
      "outputs": [],
      "source": [
        "!pip install -q streamlit"
      ]
    },
    {
      "cell_type": "code",
      "execution_count": 2,
      "metadata": {
        "colab": {
          "base_uri": "https://localhost:8080/"
        },
        "id": "UujMv2JK-7_D",
        "outputId": "64689181-7bbc-4129-c9cb-3ae0c1346dc5"
      },
      "outputs": [
        {
          "output_type": "stream",
          "name": "stdout",
          "text": [
            "Overwriting app.py\n"
          ]
        }
      ],
      "source": [
        "%%writefile app.py\n",
        "import streamlit as st\n",
        "st.write('# Sum of Two Numbers')"
      ]
    },
    {
      "cell_type": "code",
      "source": [
        "!pip install pyngrok"
      ],
      "metadata": {
        "colab": {
          "base_uri": "https://localhost:8080/"
        },
        "id": "14v8Eb9dp3N9",
        "outputId": "3f4be9c3-e047-427a-8d91-412b3ef1b118"
      },
      "execution_count": 3,
      "outputs": [
        {
          "output_type": "stream",
          "name": "stdout",
          "text": [
            "Looking in indexes: https://pypi.org/simple, https://us-python.pkg.dev/colab-wheels/public/simple/\n",
            "Collecting pyngrok\n",
            "  Downloading pyngrok-5.1.0.tar.gz (745 kB)\n",
            "\u001b[K     |████████████████████████████████| 745 kB 5.3 MB/s \n",
            "\u001b[?25hRequirement already satisfied: PyYAML in /usr/local/lib/python3.7/dist-packages (from pyngrok) (6.0)\n",
            "Building wheels for collected packages: pyngrok\n",
            "  Building wheel for pyngrok (setup.py) ... \u001b[?25l\u001b[?25hdone\n",
            "  Created wheel for pyngrok: filename=pyngrok-5.1.0-py3-none-any.whl size=19006 sha256=1c5fa5e635a1549d5493371a7c9614eafe70a6c224b50957ec11dce7b200973f\n",
            "  Stored in directory: /root/.cache/pip/wheels/bf/e6/af/ccf6598ecefecd44104069371795cb9b3afbcd16987f6ccfb3\n",
            "Successfully built pyngrok\n",
            "Installing collected packages: pyngrok\n",
            "Successfully installed pyngrok-5.1.0\n"
          ]
        }
      ]
    },
    {
      "cell_type": "code",
      "source": [
        "from pyngrok import ngrok"
      ],
      "metadata": {
        "id": "k-My1wI3qK3h"
      },
      "execution_count": 4,
      "outputs": []
    },
    {
      "cell_type": "code",
      "source": [
        "ngrok.set_auth_token(\"2HwxSGhnMgJIcRGGGj2hxsboY1r_5LVWhZTxLmZqkfCdNSgNw\")"
      ],
      "metadata": {
        "colab": {
          "base_uri": "https://localhost:8080/"
        },
        "id": "1z23ZUnAqVqD",
        "outputId": "304ae67a-f0db-47ef-88d1-8ffe99876fd5"
      },
      "execution_count": 5,
      "outputs": [
        {
          "output_type": "stream",
          "name": "stdout",
          "text": []
        }
      ]
    },
    {
      "cell_type": "code",
      "source": [
        "publ_url = ngrok.connect(4040).public_url"
      ],
      "metadata": {
        "id": "oHvenwx1qxus"
      },
      "execution_count": 14,
      "outputs": []
    },
    {
      "cell_type": "code",
      "source": [
        "print(publ_url)"
      ],
      "metadata": {
        "colab": {
          "base_uri": "https://localhost:8080/"
        },
        "id": "minkUms9rEOi",
        "outputId": "70eecf4a-49ce-4a4d-ea79-1a2b3df1bbd7"
      },
      "execution_count": 7,
      "outputs": [
        {
          "output_type": "stream",
          "name": "stdout",
          "text": [
            "http://d451-35-243-223-189.ngrok.io\n"
          ]
        }
      ]
    },
    {
      "cell_type": "code",
      "source": [],
      "metadata": {
        "id": "nns57wJgrqxg"
      },
      "execution_count": null,
      "outputs": []
    },
    {
      "cell_type": "code",
      "execution_count": null,
      "metadata": {
        "colab": {
          "background_save": true,
          "base_uri": "https://localhost:8080/"
        },
        "id": "-yXC8SWy_iyZ",
        "outputId": "c8e75cad-7cde-4c01-d815-07740a7c59c3"
      },
      "outputs": [
        {
          "name": "stdout",
          "output_type": "stream",
          "text": [
            "[..................] - fetchMetadata: sill resolveWithNewModule localtunnel@2.0\u001b[0m\u001b[K\n",
            "Collecting usage statistics. To deactivate, set browser.gatherUsageStats to False.\n",
            "\u001b[0m\n",
            "\u001b[0m\n",
            "\u001b[34m\u001b[1m  You can now view your Streamlit app in your browser.\u001b[0m\n",
            "\u001b[0m\n",
            "\u001b[34m  Network URL: \u001b[0m\u001b[1mhttp://172.28.0.2:8501\u001b[0m\n",
            "\u001b[34m  External URL: \u001b[0m\u001b[1mhttp://35.189.186.252:8501\u001b[0m\n",
            "\u001b[0m\n",
            "\u001b[K\u001b[?25hnpx: installed 22 in 4.095s\n",
            "your url is: https://slick-pianos-share-35-189-186-252.loca.lt\n"
          ]
        }
      ],
      "source": [
        "!streamlit run app.py & npx localtunnel --port 8501"
      ]
    },
    {
      "cell_type": "code",
      "execution_count": 3,
      "metadata": {
        "colab": {
          "base_uri": "https://localhost:8080/"
        },
        "id": "Gl_hGR7ZL37P",
        "outputId": "a8538d55-5720-4674-c7f2-d38e1cb3ccfb"
      },
      "outputs": [
        {
          "output_type": "stream",
          "name": "stdout",
          "text": [
            "--2022-11-23 13:41:27--  https://bin.equinox.io/c/4VmDzA7iaHb/ngrok-stable-linux-amd64.zip\n",
            "Resolving bin.equinox.io (bin.equinox.io)... 54.161.241.46, 54.237.133.81, 18.205.222.128, ...\n",
            "Connecting to bin.equinox.io (bin.equinox.io)|54.161.241.46|:443... connected.\n",
            "HTTP request sent, awaiting response... 200 OK\n",
            "Length: 13832437 (13M) [application/octet-stream]\n",
            "Saving to: ‘ngrok-stable-linux-amd64.zip.1’\n",
            "\n",
            "ngrok-stable-linux- 100%[===================>]  13.19M  57.9MB/s    in 0.2s    \n",
            "\n",
            "2022-11-23 13:41:27 (57.9 MB/s) - ‘ngrok-stable-linux-amd64.zip.1’ saved [13832437/13832437]\n",
            "\n"
          ]
        }
      ],
      "source": [
        "!wget https://bin.equinox.io/c/4VmDzA7iaHb/ngrok-stable-linux-amd64.zip"
      ]
    },
    {
      "cell_type": "code",
      "execution_count": 4,
      "metadata": {
        "colab": {
          "base_uri": "https://localhost:8080/"
        },
        "id": "ANPlgg3gMpLF",
        "outputId": "8e6d895d-bff7-4e6f-b75e-8139bf255c63"
      },
      "outputs": [
        {
          "output_type": "stream",
          "name": "stdout",
          "text": [
            "Archive:  ngrok-stable-linux-amd64.zip\n",
            "replace ngrok? [y]es, [n]o, [A]ll, [N]one, [r]ename: n\n"
          ]
        }
      ],
      "source": [
        "!unzip ngrok-stable-linux-amd64.zip"
      ]
    },
    {
      "cell_type": "code",
      "execution_count": 5,
      "metadata": {
        "colab": {
          "base_uri": "https://localhost:8080/"
        },
        "id": "Uz2f2yy9M4PY",
        "outputId": "17637b57-106e-48b6-94fe-f060ef77080b"
      },
      "outputs": [
        {
          "output_type": "stream",
          "name": "stdout",
          "text": [
            "Authtoken saved to configuration file: /root/.ngrok2/ngrok.yml\n"
          ]
        }
      ],
      "source": [
        "!/content/ngrok authtoken 2HwxSGhnMgJIcRGGGj2hxsboY1r_5LVWhZTxLmZqkfCdNSgNw"
      ]
    },
    {
      "cell_type": "code",
      "execution_count": 6,
      "metadata": {
        "id": "Hpv9SWeTN9Aj"
      },
      "outputs": [],
      "source": [
        "get_ipython().system_raw('./ngrok http 8501 &')"
      ]
    },
    {
      "cell_type": "code",
      "execution_count": 7,
      "metadata": {
        "colab": {
          "base_uri": "https://localhost:8080/"
        },
        "id": "VgwZAelaOVop",
        "outputId": "3d273918-8d73-4c2f-a306-51461bf05636"
      },
      "outputs": [
        {
          "output_type": "stream",
          "name": "stdout",
          "text": [
            "Execute the next cell and then go to the following URL: https://2ce4-35-243-223-189.ngrok.io\n"
          ]
        }
      ],
      "source": [
        "!curl -s http://localhost:4040/api/tunnels | python3 -c 'import sys, json; print(\"Execute the next cell and then go to the following URL: \" +json.load(sys.stdin)[\"tunnels\"][0][\"public_url\"])'"
      ]
    },
    {
      "cell_type": "code",
      "source": [
        "!streamlit run /content/app.py"
      ],
      "metadata": {
        "colab": {
          "base_uri": "https://localhost:8080/"
        },
        "id": "4574Wee7stMh",
        "outputId": "eae4d9ba-65f0-4bb8-a1c2-44a083860506"
      },
      "execution_count": null,
      "outputs": [
        {
          "output_type": "stream",
          "name": "stdout",
          "text": [
            "\n",
            "Collecting usage statistics. To deactivate, set browser.gatherUsageStats to False.\n",
            "\u001b[0m\n",
            "\u001b[0m\n",
            "\u001b[34m\u001b[1m  You can now view your Streamlit app in your browser.\u001b[0m\n",
            "\u001b[0m\n",
            "\u001b[34m  Network URL: \u001b[0m\u001b[1mhttp://172.28.0.2:8501\u001b[0m\n",
            "\u001b[34m  External URL: \u001b[0m\u001b[1mhttp://35.243.223.189:8501\u001b[0m\n",
            "\u001b[0m\n",
            "2022-11-23 14:06:45.199 Uncaught app exception\n",
            "Traceback (most recent call last):\n",
            "  File \"/usr/local/lib/python3.7/dist-packages/streamlit/runtime/scriptrunner/script_runner.py\", line 564, in _run_script\n",
            "    exec(code, module.__dict__)\n",
            "  File \"/content/app.py\", line 14, in <module>\n",
            "    df = user_input_features()\n",
            "  File \"/content/app.py\", line 12, in user_input_features\n",
            "    features = pd.DataFrame(data)\n",
            "  File \"/usr/local/lib/python3.7/dist-packages/pandas/core/frame.py\", line 614, in __init__\n",
            "    mgr = dict_to_mgr(data, index, columns, dtype=dtype, copy=copy, typ=manager)\n",
            "  File \"/usr/local/lib/python3.7/dist-packages/pandas/core/internals/construction.py\", line 465, in dict_to_mgr\n",
            "    arrays, data_names, index, columns, dtype=dtype, typ=typ, consolidate=copy\n",
            "  File \"/usr/local/lib/python3.7/dist-packages/pandas/core/internals/construction.py\", line 119, in arrays_to_mgr\n",
            "    index = _extract_index(arrays)\n",
            "  File \"/usr/local/lib/python3.7/dist-packages/pandas/core/internals/construction.py\", line 625, in _extract_index\n",
            "    raise ValueError(\"If using all scalar values, you must pass an index\")\n",
            "ValueError: If using all scalar values, you must pass an index\n",
            "2022-11-23 14:07:21.460 Uncaught app exception\n",
            "Traceback (most recent call last):\n",
            "  File \"/usr/local/lib/python3.7/dist-packages/streamlit/runtime/scriptrunner/script_runner.py\", line 564, in _run_script\n",
            "    exec(code, module.__dict__)\n",
            "  File \"/content/app.py\", line 14, in <module>\n",
            "    df = user_input_features()\n",
            "  File \"/content/app.py\", line 12, in user_input_features\n",
            "    features = pd.DataFrame(data)\n",
            "  File \"/usr/local/lib/python3.7/dist-packages/pandas/core/frame.py\", line 614, in __init__\n",
            "    mgr = dict_to_mgr(data, index, columns, dtype=dtype, copy=copy, typ=manager)\n",
            "  File \"/usr/local/lib/python3.7/dist-packages/pandas/core/internals/construction.py\", line 465, in dict_to_mgr\n",
            "    arrays, data_names, index, columns, dtype=dtype, typ=typ, consolidate=copy\n",
            "  File \"/usr/local/lib/python3.7/dist-packages/pandas/core/internals/construction.py\", line 119, in arrays_to_mgr\n",
            "    index = _extract_index(arrays)\n",
            "  File \"/usr/local/lib/python3.7/dist-packages/pandas/core/internals/construction.py\", line 625, in _extract_index\n",
            "    raise ValueError(\"If using all scalar values, you must pass an index\")\n",
            "ValueError: If using all scalar values, you must pass an index\n",
            "2022-11-23 14:07:22.031 Uncaught app exception\n",
            "Traceback (most recent call last):\n",
            "  File \"/usr/local/lib/python3.7/dist-packages/streamlit/runtime/scriptrunner/script_runner.py\", line 564, in _run_script\n",
            "    exec(code, module.__dict__)\n",
            "  File \"/content/app.py\", line 14, in <module>\n",
            "    df = user_input_features()\n",
            "  File \"/content/app.py\", line 12, in user_input_features\n",
            "    features = pd.DataFrame(data)\n",
            "  File \"/usr/local/lib/python3.7/dist-packages/pandas/core/frame.py\", line 614, in __init__\n",
            "    mgr = dict_to_mgr(data, index, columns, dtype=dtype, copy=copy, typ=manager)\n",
            "  File \"/usr/local/lib/python3.7/dist-packages/pandas/core/internals/construction.py\", line 465, in dict_to_mgr\n",
            "    arrays, data_names, index, columns, dtype=dtype, typ=typ, consolidate=copy\n",
            "  File \"/usr/local/lib/python3.7/dist-packages/pandas/core/internals/construction.py\", line 119, in arrays_to_mgr\n",
            "    index = _extract_index(arrays)\n",
            "  File \"/usr/local/lib/python3.7/dist-packages/pandas/core/internals/construction.py\", line 625, in _extract_index\n",
            "    raise ValueError(\"If using all scalar values, you must pass an index\")\n",
            "ValueError: If using all scalar values, you must pass an index\n",
            "2022-11-23 14:07:22.240 Uncaught app exception\n",
            "Traceback (most recent call last):\n",
            "  File \"/usr/local/lib/python3.7/dist-packages/streamlit/runtime/scriptrunner/script_runner.py\", line 564, in _run_script\n",
            "    exec(code, module.__dict__)\n",
            "  File \"/content/app.py\", line 14, in <module>\n",
            "    df = user_input_features()\n",
            "  File \"/content/app.py\", line 12, in user_input_features\n",
            "    features = pd.DataFrame(data)\n",
            "  File \"/usr/local/lib/python3.7/dist-packages/pandas/core/frame.py\", line 614, in __init__\n",
            "    mgr = dict_to_mgr(data, index, columns, dtype=dtype, copy=copy, typ=manager)\n",
            "  File \"/usr/local/lib/python3.7/dist-packages/pandas/core/internals/construction.py\", line 465, in dict_to_mgr\n",
            "    arrays, data_names, index, columns, dtype=dtype, typ=typ, consolidate=copy\n",
            "  File \"/usr/local/lib/python3.7/dist-packages/pandas/core/internals/construction.py\", line 119, in arrays_to_mgr\n",
            "    index = _extract_index(arrays)\n",
            "  File \"/usr/local/lib/python3.7/dist-packages/pandas/core/internals/construction.py\", line 625, in _extract_index\n",
            "    raise ValueError(\"If using all scalar values, you must pass an index\")\n",
            "ValueError: If using all scalar values, you must pass an index\n",
            "2022-11-23 14:07:22.425 Uncaught app exception\n",
            "Traceback (most recent call last):\n",
            "  File \"/usr/local/lib/python3.7/dist-packages/streamlit/runtime/scriptrunner/script_runner.py\", line 564, in _run_script\n",
            "    exec(code, module.__dict__)\n",
            "  File \"/content/app.py\", line 14, in <module>\n",
            "    df = user_input_features()\n",
            "  File \"/content/app.py\", line 12, in user_input_features\n",
            "    features = pd.DataFrame(data)\n",
            "  File \"/usr/local/lib/python3.7/dist-packages/pandas/core/frame.py\", line 614, in __init__\n",
            "    mgr = dict_to_mgr(data, index, columns, dtype=dtype, copy=copy, typ=manager)\n",
            "  File \"/usr/local/lib/python3.7/dist-packages/pandas/core/internals/construction.py\", line 465, in dict_to_mgr\n",
            "    arrays, data_names, index, columns, dtype=dtype, typ=typ, consolidate=copy\n",
            "  File \"/usr/local/lib/python3.7/dist-packages/pandas/core/internals/construction.py\", line 119, in arrays_to_mgr\n",
            "    index = _extract_index(arrays)\n",
            "  File \"/usr/local/lib/python3.7/dist-packages/pandas/core/internals/construction.py\", line 625, in _extract_index\n",
            "    raise ValueError(\"If using all scalar values, you must pass an index\")\n",
            "ValueError: If using all scalar values, you must pass an index\n",
            "2022-11-23 14:07:27.369 Uncaught app exception\n",
            "Traceback (most recent call last):\n",
            "  File \"/usr/local/lib/python3.7/dist-packages/streamlit/runtime/scriptrunner/script_runner.py\", line 564, in _run_script\n",
            "    exec(code, module.__dict__)\n",
            "  File \"/content/app.py\", line 14, in <module>\n",
            "    df = user_input_features()\n",
            "  File \"/content/app.py\", line 12, in user_input_features\n",
            "    features = pd.DataFrame(data)\n",
            "  File \"/usr/local/lib/python3.7/dist-packages/pandas/core/frame.py\", line 614, in __init__\n",
            "    mgr = dict_to_mgr(data, index, columns, dtype=dtype, copy=copy, typ=manager)\n",
            "  File \"/usr/local/lib/python3.7/dist-packages/pandas/core/internals/construction.py\", line 465, in dict_to_mgr\n",
            "    arrays, data_names, index, columns, dtype=dtype, typ=typ, consolidate=copy\n",
            "  File \"/usr/local/lib/python3.7/dist-packages/pandas/core/internals/construction.py\", line 119, in arrays_to_mgr\n",
            "    index = _extract_index(arrays)\n",
            "  File \"/usr/local/lib/python3.7/dist-packages/pandas/core/internals/construction.py\", line 625, in _extract_index\n",
            "    raise ValueError(\"If using all scalar values, you must pass an index\")\n",
            "ValueError: If using all scalar values, you must pass an index\n",
            "2022-11-23 14:07:32.409 Uncaught app exception\n",
            "Traceback (most recent call last):\n",
            "  File \"/usr/local/lib/python3.7/dist-packages/streamlit/runtime/scriptrunner/script_runner.py\", line 564, in _run_script\n",
            "    exec(code, module.__dict__)\n",
            "  File \"/content/app.py\", line 14, in <module>\n",
            "    df = user_input_features()\n",
            "  File \"/content/app.py\", line 12, in user_input_features\n",
            "    features = pd.DataFrame(data)\n",
            "  File \"/usr/local/lib/python3.7/dist-packages/pandas/core/frame.py\", line 614, in __init__\n",
            "    mgr = dict_to_mgr(data, index, columns, dtype=dtype, copy=copy, typ=manager)\n",
            "  File \"/usr/local/lib/python3.7/dist-packages/pandas/core/internals/construction.py\", line 465, in dict_to_mgr\n",
            "    arrays, data_names, index, columns, dtype=dtype, typ=typ, consolidate=copy\n",
            "  File \"/usr/local/lib/python3.7/dist-packages/pandas/core/internals/construction.py\", line 119, in arrays_to_mgr\n",
            "    index = _extract_index(arrays)\n",
            "  File \"/usr/local/lib/python3.7/dist-packages/pandas/core/internals/construction.py\", line 625, in _extract_index\n",
            "    raise ValueError(\"If using all scalar values, you must pass an index\")\n",
            "ValueError: If using all scalar values, you must pass an index\n",
            "2022-11-23 14:09:03.128 Uncaught app exception\n",
            "Traceback (most recent call last):\n",
            "  File \"/usr/local/lib/python3.7/dist-packages/streamlit/runtime/scriptrunner/script_runner.py\", line 564, in _run_script\n",
            "    exec(code, module.__dict__)\n",
            "  File \"/content/app.py\", line 14, in <module>\n",
            "    df = user_input_features()\n",
            "  File \"/content/app.py\", line 12, in user_input_features\n",
            "    features = pd.DataFrame(data)\n",
            "  File \"/usr/local/lib/python3.7/dist-packages/pandas/core/frame.py\", line 614, in __init__\n",
            "    mgr = dict_to_mgr(data, index, columns, dtype=dtype, copy=copy, typ=manager)\n",
            "  File \"/usr/local/lib/python3.7/dist-packages/pandas/core/internals/construction.py\", line 465, in dict_to_mgr\n",
            "    arrays, data_names, index, columns, dtype=dtype, typ=typ, consolidate=copy\n",
            "  File \"/usr/local/lib/python3.7/dist-packages/pandas/core/internals/construction.py\", line 119, in arrays_to_mgr\n",
            "    index = _extract_index(arrays)\n",
            "  File \"/usr/local/lib/python3.7/dist-packages/pandas/core/internals/construction.py\", line 625, in _extract_index\n",
            "    raise ValueError(\"If using all scalar values, you must pass an index\")\n",
            "ValueError: If using all scalar values, you must pass an index\n"
          ]
        }
      ]
    }
  ],
  "metadata": {
    "colab": {
      "provenance": [],
      "authorship_tag": "ABX9TyPtxmVH9rL0ycnoIG/agZsv",
      "include_colab_link": true
    },
    "kernelspec": {
      "display_name": "Python 3",
      "name": "python3"
    },
    "language_info": {
      "name": "python"
    }
  },
  "nbformat": 4,
  "nbformat_minor": 0
}